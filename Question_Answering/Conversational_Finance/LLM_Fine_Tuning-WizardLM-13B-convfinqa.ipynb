{
 "cells": [
  {
   "cell_type": "markdown",
   "id": "e85c4314",
   "metadata": {},
   "source": [
    "## Fine-tuning of WizardLM-13B on Convfinqa"
   ]
  },
  {
   "cell_type": "markdown",
   "id": "05511d38",
   "metadata": {},
   "source": [
    "Install and Load Required Libraries"
   ]
  },
  {
   "cell_type": "code",
   "execution_count": 1,
   "id": "eff1224a",
   "metadata": {},
   "outputs": [],
   "source": [
    "! pip3 install -q -U transformers\n",
    "! pip install -q -U datasets\n",
    "! pip3 install -q -U peft\n",
    "! pip install -q -U trl\n",
    "! pip3 install -q -U auto-gptq\n",
    "! pip3 install -q -U optimum\n",
    "! pip3 install -q -U bitsandbytes"
   ]
  },
  {
   "cell_type": "code",
   "execution_count": 2,
   "id": "8a4e18d6",
   "metadata": {},
   "outputs": [],
   "source": [
    "import os\n",
    "os.environ['TRANSFORMERS_CACHE'] = '/home/kmb85/rds/hpc-work/huggingface'"
   ]
  },
  {
   "cell_type": "code",
   "execution_count": 3,
   "id": "e5295af5",
   "metadata": {},
   "outputs": [
    {
     "name": "stderr",
     "output_type": "stream",
     "text": [
      "/home/kmb85/rds/hpc-work/miniconda3/lib/python3.11/site-packages/transformers/utils/hub.py:124: FutureWarning: Using `TRANSFORMERS_CACHE` is deprecated and will be removed in v5 of Transformers. Use `HF_HOME` instead.\n",
      "  warnings.warn(\n"
     ]
    }
   ],
   "source": [
    "import transformers\n",
    "import torch\n",
    "from datasets import load_dataset\n",
    "from peft import (\n",
    "    LoraConfig,\n",
    "    prepare_model_for_kbit_training,\n",
    "    get_peft_model\n",
    ")\n",
    "from transformers import (\n",
    "    AutoModelForCausalLM,\n",
    "    AutoTokenizer,\n",
    "    BitsAndBytesConfig,\n",
    ")\n",
    "from trl import SFTTrainer"
   ]
  },
  {
   "cell_type": "markdown",
   "id": "b80dbdd3",
   "metadata": {},
   "source": [
    "### Load WizardLM-13B and Tokenizer"
   ]
  },
  {
   "cell_type": "code",
   "execution_count": 4,
   "id": "0fe1a3d4",
   "metadata": {},
   "outputs": [
    {
     "name": "stderr",
     "output_type": "stream",
     "text": [
      "/home/kmb85/rds/hpc-work/miniconda3/lib/python3.11/site-packages/transformers/generation/configuration_utils.py:410: UserWarning: `do_sample` is set to `False`. However, `temperature` is set to `0.9` -- this flag is only used in sample-based generation modes. You should set `do_sample=True` or unset `temperature`. This was detected when initializing the generation config instance, which means the corresponding file may hold incorrect parameterization and should be fixed.\n",
      "  warnings.warn(\n",
      "/home/kmb85/rds/hpc-work/miniconda3/lib/python3.11/site-packages/transformers/generation/configuration_utils.py:415: UserWarning: `do_sample` is set to `False`. However, `top_p` is set to `0.6` -- this flag is only used in sample-based generation modes. You should set `do_sample=True` or unset `top_p`. This was detected when initializing the generation config instance, which means the corresponding file may hold incorrect parameterization and should be fixed.\n",
      "  warnings.warn(\n",
      "/home/kmb85/rds/hpc-work/miniconda3/lib/python3.11/site-packages/transformers/generation/configuration_utils.py:410: UserWarning: `do_sample` is set to `False`. However, `temperature` is set to `0.9` -- this flag is only used in sample-based generation modes. You should set `do_sample=True` or unset `temperature`.\n",
      "  warnings.warn(\n",
      "/home/kmb85/rds/hpc-work/miniconda3/lib/python3.11/site-packages/transformers/generation/configuration_utils.py:415: UserWarning: `do_sample` is set to `False`. However, `top_p` is set to `0.6` -- this flag is only used in sample-based generation modes. You should set `do_sample=True` or unset `top_p`.\n",
      "  warnings.warn(\n"
     ]
    }
   ],
   "source": [
    "model_name_or_path = \"WizardLM/WizardLM-13B-V1.2\"\n",
    "\n",
    "bnb_config = BitsAndBytesConfig(\n",
    "    load_in_4bit=True,\n",
    "    bnb_4b_quant_type='nf4',\n",
    "    torch_dtype=torch.float16,\n",
    ")\n",
    "\n",
    "model = AutoModelForCausalLM.from_pretrained(\n",
    "    model_name_or_path,\n",
    "    use_safetensors=True,\n",
    "    device_map=\"auto\",\n",
    "    trust_remote_code=True,\n",
    "    quantization_config=bnb_config,\n",
    "    token=\"\"\n",
    ")"
   ]
  },
  {
   "cell_type": "code",
   "execution_count": 5,
   "id": "08c49ea8",
   "metadata": {},
   "outputs": [],
   "source": [
    "tokenizer = AutoTokenizer.from_pretrained(model_name_or_path, use_fast=True,\n",
    "                                          token=\"\")\n",
    "tokenizer.pad_token=tokenizer.eos_token"
   ]
  },
  {
   "cell_type": "code",
   "execution_count": 6,
   "id": "52d3090f",
   "metadata": {},
   "outputs": [],
   "source": [
    "model.gradient_checkpointing_enable()\n",
    "model = prepare_model_for_kbit_training(model)"
   ]
  },
  {
   "cell_type": "markdown",
   "id": "de179967",
   "metadata": {},
   "source": [
    "### Load LoRA Adapter"
   ]
  },
  {
   "cell_type": "code",
   "execution_count": 7,
   "id": "bb938de2",
   "metadata": {},
   "outputs": [],
   "source": [
    "config = LoraConfig(\n",
    "    r=32,\n",
    "    lora_alpha=16,\n",
    "    bias=\"none\",\n",
    "    task_type=\"CASUAL_LM\",\n",
    "    target_modules=[\"q_proj\", \"v_proj\"]\n",
    ")"
   ]
  },
  {
   "cell_type": "code",
   "execution_count": 8,
   "id": "d7c0ee0c",
   "metadata": {},
   "outputs": [],
   "source": [
    "model=get_peft_model(model, config)"
   ]
  },
  {
   "cell_type": "markdown",
   "id": "f0836942",
   "metadata": {},
   "source": [
    "### Dataset preparation"
   ]
  },
  {
   "cell_type": "code",
   "execution_count": 9,
   "id": "ad71dd65",
   "metadata": {},
   "outputs": [],
   "source": [
    "dataset = load_dataset('ChanceFocus/flare-convfinqa', keep_in_memory=True)"
   ]
  },
  {
   "cell_type": "code",
   "execution_count": 10,
   "id": "30f51ccc",
   "metadata": {},
   "outputs": [
    {
     "data": {
      "text/plain": [
       "DatasetDict({\n",
       "    train: Dataset({\n",
       "        features: ['id', 'query', 'answer', 'turn', 'dialogue_id'],\n",
       "        num_rows: 8891\n",
       "    })\n",
       "    test: Dataset({\n",
       "        features: ['id', 'query', 'answer', 'turn', 'dialogue_id'],\n",
       "        num_rows: 1490\n",
       "    })\n",
       "    valid: Dataset({\n",
       "        features: ['id', 'query', 'answer', 'turn', 'dialogue_id'],\n",
       "        num_rows: 2213\n",
       "    })\n",
       "})"
      ]
     },
     "execution_count": 10,
     "metadata": {},
     "output_type": "execute_result"
    }
   ],
   "source": [
    "dataset"
   ]
  },
  {
   "cell_type": "code",
   "execution_count": 11,
   "id": "1f32f77c",
   "metadata": {},
   "outputs": [],
   "source": [
    "import re\n",
    "\n",
    "def remove_conversations(text):\n",
    "    cleaned_text = re.sub(r'Conversations:.*?Question:', 'Question:', text, flags=re.DOTALL)\n",
    "    return cleaned_text\n",
    "\n",
    "def add_marker_before_first_occurrence(text, search_string):\n",
    "    pattern = re.escape(search_string)\n",
    "    marked_text = re.sub(pattern, '\\n###' + search_string, text, count=1)\n",
    "    return marked_text"
   ]
  },
  {
   "cell_type": "code",
   "execution_count": 12,
   "id": "c951253d",
   "metadata": {},
   "outputs": [],
   "source": [
    "def generate_train_prompt(data_point):\n",
    "    query = data_point['query']\n",
    "    query = add_marker_before_first_occurrence(query, 'Context:')\n",
    "    query = add_marker_before_first_occurrence(query, 'Conversation:')\n",
    "    query = add_marker_before_first_occurrence(query, 'Question:')\n",
    "    query = add_marker_before_first_occurrence(query, 'Answer:')\n",
    "    answer = data_point['answer']\n",
    "    text = f'{query}\\n{answer}'\n",
    "    return {'text': text, 'labels': answer}"
   ]
  },
  {
   "cell_type": "code",
   "execution_count": 13,
   "id": "c81920f9",
   "metadata": {},
   "outputs": [
    {
     "data": {
      "application/vnd.jupyter.widget-view+json": {
       "model_id": "aae7c83ab8054799b7e8178202473a81",
       "version_major": 2,
       "version_minor": 0
      },
      "text/plain": [
       "Map:   0%|          | 0/8891 [00:00<?, ? examples/s]"
      ]
     },
     "metadata": {},
     "output_type": "display_data"
    }
   ],
   "source": [
    "train_dataset = dataset['train'].shuffle().map(generate_train_prompt)"
   ]
  },
  {
   "cell_type": "code",
   "execution_count": 14,
   "id": "f6050f0b",
   "metadata": {},
   "outputs": [
    {
     "data": {
      "application/vnd.jupyter.widget-view+json": {
       "model_id": "dbd7f9aae8444529b7355e687889defa",
       "version_major": 2,
       "version_minor": 0
      },
      "text/plain": [
       "Map:   0%|          | 0/2213 [00:00<?, ? examples/s]"
      ]
     },
     "metadata": {},
     "output_type": "display_data"
    }
   ],
   "source": [
    "validation_dataset = dataset['valid'].shuffle().map(generate_train_prompt)"
   ]
  },
  {
   "cell_type": "code",
   "execution_count": 15,
   "id": "85a4c929",
   "metadata": {},
   "outputs": [],
   "source": [
    "def generate_test_prompt(data_point):\n",
    "    query = data_point['query']\n",
    "    query = add_marker_before_first_occurrence(query, 'Context:')\n",
    "    query = add_marker_before_first_occurrence(query, 'Question:')\n",
    "    query = add_marker_before_first_occurrence(query, 'Answer:')\n",
    "    text = f'{query}\\n\\n'\n",
    "    return {'text':text}"
   ]
  },
  {
   "cell_type": "code",
   "execution_count": 16,
   "id": "8ce2ba9c",
   "metadata": {},
   "outputs": [
    {
     "data": {
      "application/vnd.jupyter.widget-view+json": {
       "model_id": "527f321aedb94cc494ba778bbacf338e",
       "version_major": 2,
       "version_minor": 0
      },
      "text/plain": [
       "Map:   0%|          | 0/1490 [00:00<?, ? examples/s]"
      ]
     },
     "metadata": {},
     "output_type": "display_data"
    }
   ],
   "source": [
    "test_dataset = dataset['test'].shuffle().map(generate_test_prompt)"
   ]
  },
  {
   "cell_type": "markdown",
   "id": "11eedfce",
   "metadata": {},
   "source": [
    "### Training"
   ]
  },
  {
   "cell_type": "code",
   "execution_count": 17,
   "id": "57716562",
   "metadata": {},
   "outputs": [
    {
     "data": {
      "application/vnd.jupyter.widget-view+json": {
       "model_id": "6f1f377ecf0f412f845e1c11a6a954ac",
       "version_major": 2,
       "version_minor": 0
      },
      "text/plain": [
       "Map:   0%|          | 0/8891 [00:00<?, ? examples/s]"
      ]
     },
     "metadata": {},
     "output_type": "display_data"
    },
    {
     "data": {
      "application/vnd.jupyter.widget-view+json": {
       "model_id": "2436588c69d94c06b7138b8b5eb4e4a3",
       "version_major": 2,
       "version_minor": 0
      },
      "text/plain": [
       "Map:   0%|          | 0/2213 [00:00<?, ? examples/s]"
      ]
     },
     "metadata": {},
     "output_type": "display_data"
    },
    {
     "name": "stderr",
     "output_type": "stream",
     "text": [
      "/home/kmb85/rds/hpc-work/miniconda3/lib/python3.11/site-packages/accelerate/accelerator.py:432: FutureWarning: Passing the following arguments to `Accelerator` is deprecated and will be removed in version 1.0 of Accelerate: dict_keys(['dispatch_batches', 'split_batches', 'even_batches', 'use_seedable_sampler']). Please pass an `accelerate.DataLoaderConfiguration` instead: \n",
      "dataloader_config = DataLoaderConfiguration(dispatch_batches=None, split_batches=False, even_batches=True, use_seedable_sampler=True)\n",
      "  warnings.warn(\n",
      "Detected kernel version 4.18.0, which is below the recommended minimum of 5.5.0; this can cause the process to hang. It is recommended to upgrade the kernel to the minimum version or higher.\n"
     ]
    }
   ],
   "source": [
    "training_args = transformers.TrainingArguments(\n",
    "    per_device_train_batch_size=12,\n",
    "    gradient_accumulation_steps=12,\n",
    "    learning_rate=0.00003,\n",
    "    bf16=True,\n",
    "    num_train_epochs=5,\n",
    "    save_strategy=\"epoch\",\n",
    "    save_safetensors=True,\n",
    "    lr_scheduler_type=\"cosine\",\n",
    "    optim=\"paged_adamw_8bit\",\n",
    "    output_dir='./experiments',\n",
    "    remove_unused_columns=False,\n",
    "    warmup_ratio=0.03,\n",
    "    logging_strategy='steps',\n",
    "    evaluation_strategy='steps',\n",
    "    logging_steps=15,\n",
    "    label_names=['labels'],\n",
    "    eval_steps=15,\n",
    "    group_by_length=True\n",
    ")\n",
    "\n",
    "trainer = SFTTrainer(\n",
    "    model=model,\n",
    "    train_dataset=train_dataset,\n",
    "    eval_dataset=validation_dataset,\n",
    "    args=training_args,\n",
    "    tokenizer=tokenizer,\n",
    "    dataset_text_field='text',\n",
    "    peft_config=config,\n",
    "    max_seq_length=4096\n",
    ")"
   ]
  },
  {
   "cell_type": "code",
   "execution_count": null,
   "id": "b7e99735",
   "metadata": {},
   "outputs": [],
   "source": [
    "model.config.use_cache = False\n",
    "trainer.state.log_history = True\n",
    "trainer.train()"
   ]
  },
  {
   "cell_type": "markdown",
   "id": "3efc42a7",
   "metadata": {},
   "source": [
    "### Save the fine-tuned model"
   ]
  },
  {
   "cell_type": "code",
   "execution_count": null,
   "id": "385105aa",
   "metadata": {},
   "outputs": [],
   "source": [
    "model.save_pretrained(f'WizardLM-13b-hf-convfinqa_batch_size_12_epochs_5')"
   ]
  },
  {
   "cell_type": "markdown",
   "id": "ed1c0316",
   "metadata": {},
   "source": [
    "### Evaluate the fine-tuned model"
   ]
  },
  {
   "cell_type": "code",
   "execution_count": null,
   "id": "5b5ddcb9",
   "metadata": {},
   "outputs": [],
   "source": [
    "total_correct = 0"
   ]
  },
  {
   "cell_type": "code",
   "execution_count": null,
   "id": "879195da",
   "metadata": {},
   "outputs": [],
   "source": [
    "test_dataset = test_dataset.shuffle(seed=42)"
   ]
  },
  {
   "cell_type": "code",
   "execution_count": null,
   "id": "ce47e605",
   "metadata": {},
   "outputs": [],
   "source": [
    "import requests\n",
    "import ast\n",
    "\n",
    "request = {\n",
    "    'max_new_tokens': 200,\n",
    "    'temperature': 0.1,\n",
    "    'repetition_penalty': 1,\n",
    "    'top_p': 0.7,\n",
    "}\n",
    "\n",
    "url = \"http://127.0.0.1:5070/api/v1/generate\"\n",
    "headers = {'Content-Type': 'application/json'}"
   ]
  },
  {
   "cell_type": "code",
   "execution_count": null,
   "id": "cba7cdd5",
   "metadata": {},
   "outputs": [],
   "source": [
    "def trim_float_string(float_string):\n",
    "    if float_string.endswith('.0'):\n",
    "        return float_string[:-2]\n",
    "    else:\n",
    "        return float_string"
   ]
  },
  {
   "cell_type": "code",
   "execution_count": null,
   "id": "82b306dc",
   "metadata": {},
   "outputs": [],
   "source": [
    "def extract_and_compare(numerical_output, llm_output):\n",
    "    numerical_value = float(numerical_output)\n",
    "\n",
    "    numbers_in_text = re.findall(r'\\b\\d+\\b', llm_output)\n",
    "    words_in_text = re.findall(r'\\b[a-zA-Z]+\\b', llm_output)\n",
    "\n",
    "    llm_values = [float(num) for num in numbers_in_text]\n",
    "\n",
    "    for word in words_in_text:\n",
    "        try:\n",
    "            llm_values.append(float(w2n.word_to_num(word)))\n",
    "        except ValueError:\n",
    "            continue\n",
    "\n",
    "    return any(numerical_value == llm_val for llm_val in llm_values)"
   ]
  },
  {
   "cell_type": "code",
   "execution_count": null,
   "id": "a39eaf86",
   "metadata": {},
   "outputs": [],
   "source": [
    "from word2number import w2n\n",
    "\n",
    "for i in range(len(test_dataset)):\n",
    "    request['prompt'] = test_dataset[i]['text']\n",
    "    response = requests.post(url, json=request)\n",
    "\n",
    "    prediction = ast.literal_eval(response.text)[\"results\"][0]['text'].lower()\n",
    "    correct_ans = trim_float_string(test_dataset[i]['answer'].lower())\n",
    "\n",
    "    if correct_ans in prediction:\n",
    "        total_correct += 1\n",
    "    else:\n",
    "        try:\n",
    "            if extract_and_compare(correct_ans, prediction):\n",
    "                total_correct += 1\n",
    "        except:\n",
    "            continue"
   ]
  },
  {
   "cell_type": "code",
   "execution_count": null,
   "metadata": {},
   "outputs": [],
   "source": [
    "correct_percentage = (total_correct / len(test_dataset)) * 100\n",
    "print(f'Exact Match(EM) Accuracy {correct_percentage}%')"
   ]
  },
  {
   "cell_type": "markdown",
   "id": "830340fd",
   "metadata": {},
   "source": [
    "### Evaluate the base model"
   ]
  },
  {
   "cell_type": "code",
   "execution_count": 30,
   "id": "e4b2813a",
   "metadata": {},
   "outputs": [],
   "source": [
    "test_dataset = test_dataset.shuffle(seed=42)"
   ]
  },
  {
   "cell_type": "code",
   "execution_count": 31,
   "id": "c5134615",
   "metadata": {},
   "outputs": [],
   "source": [
    "import requests\n",
    "import ast\n",
    "\n",
    "request = {\n",
    "    'max_new_tokens': 200,\n",
    "    'temperature': 0.1,\n",
    "    'repetition_penalty': 1,\n",
    "    'top_p': 0.7,\n",
    "}\n",
    "\n",
    "url = \"http://127.0.0.1:5000/api/v1/generate\"\n",
    "headers = {'Content-Type': 'application/json'}"
   ]
  },
  {
   "cell_type": "code",
   "execution_count": 32,
   "id": "93d6de53",
   "metadata": {},
   "outputs": [],
   "source": [
    "def trim_float_string(float_string):\n",
    "    if float_string.endswith('.0'):\n",
    "        return float_string[:-2]\n",
    "    else:\n",
    "        return float_string"
   ]
  },
  {
   "cell_type": "code",
   "execution_count": 33,
   "id": "4af817a3",
   "metadata": {},
   "outputs": [],
   "source": [
    "def extract_and_compare(numerical_output, llm_output):\n",
    "    numerical_value = float(numerical_output)\n",
    "\n",
    "    numbers_in_text = re.findall(r'\\b\\d+\\b', llm_output)\n",
    "    words_in_text = re.findall(r'\\b[a-zA-Z]+\\b', llm_output)\n",
    "\n",
    "    llm_values = [float(num) for num in numbers_in_text]\n",
    "\n",
    "    for word in words_in_text:\n",
    "        try:\n",
    "            llm_values.append(float(w2n.word_to_num(word)))\n",
    "        except ValueError:\n",
    "            continue\n",
    "\n",
    "    return any(numerical_value == llm_val for llm_val in llm_values)"
   ]
  },
  {
   "cell_type": "code",
   "execution_count": 34,
   "id": "6d0eef38",
   "metadata": {},
   "outputs": [],
   "source": [
    "total_correct = 0"
   ]
  },
  {
   "cell_type": "code",
   "execution_count": null,
   "id": "20a99c98",
   "metadata": {},
   "outputs": [],
   "source": [
    "from word2number import w2n\n",
    "\n",
    "for i in range(len(test_dataset)):\n",
    "    request['prompt'] = test_dataset[i]['text']\n",
    "    response = requests.post(url, json=request)\n",
    "\n",
    "    prediction = ast.literal_eval(response.text)[\"results\"][0]['text'].lower()\n",
    "    correct_ans = trim_float_string(test_dataset[i]['answer'].lower())\n",
    "\n",
    "    if correct_ans in prediction:\n",
    "        total_correct += 1\n",
    "    else:\n",
    "        try:\n",
    "            if extract_and_compare(correct_ans, prediction):\n",
    "                total_correct += 1\n",
    "        except:\n",
    "            continue"
   ]
  },
  {
   "cell_type": "code",
   "execution_count": null,
   "id": "ab142a8f",
   "metadata": {},
   "outputs": [],
   "source": [
    "correct_percentage = (total_correct / len(test_dataset)) * 100\n",
    "print(f'Exact Match(EM) Accuracy {correct_percentage}%')"
   ]
  }
 ],
 "metadata": {
  "kernelspec": {
   "display_name": "Python3.11current",
   "language": "python",
   "name": "python3.11current"
  },
  "language_info": {
   "codemirror_mode": {
    "name": "ipython",
    "version": 3
   },
   "file_extension": ".py",
   "mimetype": "text/x-python",
   "name": "python",
   "nbconvert_exporter": "python",
   "pygments_lexer": "ipython3",
   "version": "3.11.5"
  }
 },
 "nbformat": 4,
 "nbformat_minor": 5
}
